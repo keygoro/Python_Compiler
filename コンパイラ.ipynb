{
  "nbformat": 4,
  "nbformat_minor": 0,
  "metadata": {
    "colab": {
      "name": "コンパイラ.ipynb",
      "provenance": [],
      "include_colab_link": true
    },
    "kernelspec": {
      "name": "python3",
      "display_name": "Python 3"
    }
  },
  "cells": [
    {
      "cell_type": "markdown",
      "metadata": {
        "id": "view-in-github",
        "colab_type": "text"
      },
      "source": [
        "<a href=\"https://colab.research.google.com/github/keygoro/Python_Compiler/blob/main/%E3%82%B3%E3%83%B3%E3%83%91%E3%82%A4%E3%83%A9.ipynb\" target=\"_parent\"><img src=\"https://colab.research.google.com/assets/colab-badge.svg\" alt=\"Open In Colab\"/></a>"
      ]
    },
    {
      "cell_type": "markdown",
      "metadata": {
        "id": "s0eSArP5uDsu"
      },
      "source": [
        "#Pythonによる四則演算コンパイラの作成"
      ]
    },
    {
      "cell_type": "markdown",
      "metadata": {
        "id": "Jr86UI_ouJGV"
      },
      "source": [
        "##目的\n",
        "今回の演習目的は，四則演算に対応するアセンブリ言語プログラムを生成するコンパイラをPythonで作成することである.例えば，30 + (4 − 2) × 5などの式がコンパイルできるようにする.  \n",
        "\n",
        "この目標は，簡単そうに見えるが実際にはとても難しい目標である．なぜなら，コンパイラで計算を行う際，計算の優先順位を処理する必要があるからである．入力として与えられる数式はただの文字列であって，構造化されたデータではない．式を正しく評価するためには，文字の並びを解析して，そこに隠れた構造をうまく導き出す必要がある．そのために，今回は構文解析の最も一般的なアルゴリズムの一つである「再帰下降構文解析法」を用いてコンパイラを作成する．以下で，コンパイラを作成するために重要なトークナイザ，構文解析，スタックマシンについて解説する．"
      ]
    },
    {
      "cell_type": "markdown",
      "metadata": {
        "id": "Ff6xpUEyzZ44"
      },
      "source": [
        "##トークナイザ\n"
      ]
    },
    {
      "cell_type": "markdown",
      "metadata": {
        "id": "7_yoyr2B_EvX"
      },
      "source": [
        "四則演算の式の最小単位のことをトークンと呼ぶ．例えば，5 + 20 − 4は，5, + ,20, − ,4という5つのトークンで構成されている．四則演算の式(文字 列)をトークンの列に分解することを「トークナイズする」という．トークナイズする際には，四則演算に関係ない空白文字は無視する必要がある. 例えば，”5 + 20 − 4”という式も\n",
        "5, + ,20, − ,4という 5つのトークンに分解されるようにプログラムする必要がある．  \n",
        "\n",
        "今回作成したPythonのプログラムでは，プログラム１で示すクラスにトークンの情報を格納している．kindはトークンの種 類，valはトークンが数字だった場合の値，strはそのときのトークン文字列を表している．  \n",
        "例として， 1 * (2 + 3)のとき先頭のトークンは，kind=num,val=1,str=1*(2+3)となる."
      ]
    },
    {
      "cell_type": "code",
      "metadata": {
        "id": "ogHmT6hVppQe"
      },
      "source": [
        "#プログラム１\n",
        "\n",
        "class Token:\n",
        "   def __init__(self, kind, val, str):\n",
        "     self.kind = kind \n",
        "     self.str = str\n"
      ],
      "execution_count": null,
      "outputs": []
    },
    {
      "cell_type": "markdown",
      "metadata": {
        "id": "nihgwos7prl4"
      },
      "source": [
        "##構文解析\n",
        "\n",
        " 四則演算の演算子の優先順位をうまく処理するためには，トークン列に対して構文解析を行う必要がある．コンパイルの行程で構文解析をする機能のことをパーサーと呼ぶ．パーサーはフラットなトークン列を演算子の優先順位を表現可能な木構造で表すことができる.  \n",
        " \n",
        " 例えば，1 * (2 + 3)という式は，図2のような木構造で表すことができる."
      ]
    },
    {
      "cell_type": "markdown",
      "metadata": {
        "id": "kzdKiFJsrif-"
      },
      "source": [
        "$\\quad$<img src=\"https://drive.google.com/uc?export=view&id=1Bm9Nwq-2rHSRdz3jP1gr0kT7E77AWThG\"　width=\"400\" height=\"350\">\n"
      ]
    },
    {
      "cell_type": "markdown",
      "metadata": {
        "id": "RobXLa-irsKy"
      },
      "source": [
        "図１　1*(2+3)を表す構文木"
      ]
    },
    {
      "cell_type": "markdown",
      "metadata": {
        "id": "V8iKKnjdr0Q2"
      },
      "source": [
        "トークン列から構文木を生成するには，四則演算の法則を記述する必要がある．法則を記述するためにここではEBNF(Extended Backus-Naur Form)を用いることにする．  \n",
        "\n",
        "EBNFでは，一つ一つの生成規則を$A=\\alpha_1,\\alpha_2,\\dots$という形式で表す．これは記号$A$を\n",
        "$\\alpha_1,\\alpha_2,\\dots$に展開できるという意味である.  \n",
        "\n",
        "$\\alpha_1,\\alpha_2,\\dots$は0個以上の記号の列で，それ以上展開できない記号と，さらに展開される(いずれかの生成規則で左辺に来ている)記号の両方を含むことができる．以下は，EBNFを使って加減算の式の文法を表し たものである．  \n",
        "\n",
        "$\\quad$expr = num (\"+\" num | \"-\" num)*  \n",
        "\n",
        "ここで，numは数値を表す記号を表している．この式では，まずnumが1つあって，その後に0個以上 の「+とnum，あるいは-とnum」があるものを，exprとして定めている．  \n",
        "\n",
        "演算子の優先規則もEBNFによって，以下のように記述することができる．  \n",
        "\n",
        "\n",
        "$\\quad$expr = mul (\"+\" mul | \"-\" mul)*   \n",
        "\n",
        "$\\quad$mul = num (\"*\" num | \"/\" num)*\n",
        "\n",
        "この規則では，exprが直接num(数字)に展開されず，mulを介してnumに展開されている．mulは乗除算の生成規則を表しているが，図2からもわかるように，この規則によって乗除算が先に実行されるという規則を構文木の中で自然に表現できる.\n",
        "\n"
      ]
    },
    {
      "cell_type": "markdown",
      "metadata": {
        "id": "rqFX39Uzv8ki"
      },
      "source": [
        "$\\quad$<img src=\"https://drive.google.com/uc?export=view&id=1B91GU5VhpCO6QdMSB2okYrzQDYlA9VAt\"　width=\"400\" height=\"350\">\n"
      ]
    },
    {
      "cell_type": "markdown",
      "metadata": {
        "id": "KgSAMtzCwPb3"
      },
      "source": [
        "図２　1*2+3を表す構文木"
      ]
    },
    {
      "cell_type": "markdown",
      "metadata": {
        "id": "uDjZnnlDz4U5"
      },
      "source": [
        "また，以下のように再帰的に文法記述することにより，括弧の中を優先するという四則演算の規則を記述することができるようになる．  \n",
        "\n",
        "expr = mul (\"+\" mul | \"-\" mul)*  \n",
        "\n",
        "mul = primary (\"*\" primary | \"/\" primary)*   \n",
        "\n",
        "primary = num | \"(\" expr \")\"\n",
        "\n"
      ]
    },
    {
      "cell_type": "markdown",
      "metadata": {
        "id": "0JR7sd4eDg7t"
      },
      "source": [
        "プログラム２は，この文法にしたがってトークン列から構文木を生成するプログラムの主要部分である.   \n",
        "\n",
        "Expr(), Mul(), Primary()という関数がENBFにおけるexpr, mul, primaryに対応している.New_Node()は，構文木の新しいノードを生成する関数である. Consume()は今参照しているトークンが+, -, *, /などの演算子であるかを判定する関数である．  "
      ]
    },
    {
      "cell_type": "markdown",
      "metadata": {
        "id": "ypZk71fPGuze"
      },
      "source": [
        "##スタックマシン\n",
        "\n"
      ]
    },
    {
      "cell_type": "code",
      "metadata": {
        "id": "NCQ6_NhMEhKY"
      },
      "source": [
        "#プログラム２\n",
        "\n",
        "def New_Node(kind,lhs,rhs):#新しいノードを作る関数\n",
        "  node = Node()#class\bNodeが入っている\n",
        "  node.kind = kind#ノードの型\n",
        "  node.lhs = lhs#左辺\n",
        "  node.rhs = rhs#右辺\n",
        "  return node \n",
        "\n",
        "def Expr():\n",
        "  node = Mul()#nodeに関数Mul()が入る\n",
        "  while True:#Trueの間繰り返す．\n",
        "     if Consume(\"+\"):#Consumeでstr_opr=\"+\"だったとき\n",
        "      node = New_Node(ND.ADD,node,Mul())#このような新しいノードを作る\n",
        "     elif Consume(\"-\"):#Consumeでstr_opr=\"-\"だったとき\n",
        "      node = New_Node(ND.SUB,node,Mul())#このような新しいノードを作る\n",
        "     else:\n",
        "       return node\n",
        "\n",
        "def Mul():\n",
        "   node = Primary()#nodeに関数Primary()が入る\n",
        "   while True:#Trueの間繰り返す\n",
        "     if Consume(\"*\"):#Consumeでstr_opr=\"*\"だったとき\n",
        "       node = New_Node(ND.MUL,node,Primary())#このような新しいノードを作る\n",
        "     elif Consume(\"/\"):#Consumeでstr_opr=\"/\"だったとき\n",
        "       node = New_Node(ND.DIV,node,Primary())#このような新しいノードを作る\n",
        "     else:\n",
        "       return node \n",
        "\n",
        "def Primary():\n",
        "       if Consume(\"(\"):#Consumeでstr_opr=\"(\"だったとき\n",
        "         node = Expr()#nodeにExpr()が入る\n",
        "         Expect(\")\")#関数Expectでstr_opr=)\n",
        "         return node\n",
        "       return New_Node_Num(Expect_Number())"
      ],
      "execution_count": null,
      "outputs": []
    },
    {
      "cell_type": "markdown",
      "metadata": {
        "id": "z7E3ee5mVJrf"
      },
      "source": [
        "##新しいトークンを作る関数，入力した数式をトークナイズする関数を定義"
      ]
    },
    {
      "cell_type": "code",
      "metadata": {
        "id": "pNKWhbbHgNjO",
        "colab": {
          "base_uri": "https://localhost:8080/"
        },
        "outputId": "223edce1-b5e8-4047-fdce-705e19a37a09"
      },
      "source": [
        "from enum import Enum#連結リストの代わり？\n",
        "class TK(Enum): #列挙型\n",
        "  RESERVED = 0#記号なら0\n",
        "  NUM = 1#整数なら1\n",
        "  EOF = 2#入力の終わりなら2を出力\n",
        "\n",
        "class Token:\n",
        "   def __init__(self, kind, val, str):#トークンの種類、数値、トークン文字列の場所\n",
        "     self.kind = kind #アトリビュートを追加　(kind,val,str)に対応\n",
        "     self.val = val\n",
        "     self.str = str\n",
        "\n",
        "token = []#apendで追加していくリスト\n",
        "oprlist=[\"+\",\"-\",\"*\",\"/\",\"(\",\")\"]#演算子のリスト\n",
        "\n",
        "def StrtoL(str):\n",
        "  str2=\"\"\n",
        "  flg=0\n",
        "  for i in range(len(str)):#strの長さ分繰り返す\n",
        "    if oprlist.count(str[i]):#oprlistにある演算子に当てはまったらflg=1としてbreak\n",
        "       flg=1\n",
        "       break\n",
        "    else:\n",
        "       str2+=str[i] #演算子ではないとき数字がstr2に加わる\n",
        "  if flg==1:\n",
        "     return int(str2),str[i:]#flg==1だったらこれを出力.int(str2)でstr2の文字列を数値に変換.str[i+1:]はstr[i]以降の数字を表示する\n",
        "  else:\n",
        "     return int(str2),0\n",
        "def NewToken(kind,str):#tokenをつくってtoken[]に追加する\n",
        "    a=Token(kind,0,str)#numは「低レイヤ〜(参考文献)」で追加していないので0としている。\n",
        "    token.append(a)#tokenに追加\n",
        "    return a#aを返す\n",
        "\n",
        "def Tokenize(p_str):#入力をトークナイズする関数，p_strに入力文字列str1が入る\n",
        "    while True:#Trueの間繰り返す\n",
        "      if p_str[0].isspace():#先頭が空白なのかチェック\n",
        "        p_str=p_str[1:]#p_strの1文字目以降としてcontinue\n",
        "        continue\n",
        "      if p_str[0] in oprlist:#p_strの1文字目がoprlistと一致したら(p_oprの1文字目が記号だったら)\n",
        "        NewToken(TK.RESERVED,p_str)#kindをTK.RESERVED、strをp_strとして新しいトークンを作成\n",
        "        if len(p_str) >1:#p_strの長さが1以上として終端を決めている\n",
        "          p_str=p_str[1:]#p_strの1文字目以降としてcontinue\n",
        "          continue\n",
        "        else:\n",
        "           break#p_strの長さが1より小さければbreak\n",
        "      if p_str[0].isdigit():#p_strの1文字目が数字かどうかチェック\n",
        "          b = NewToken(TK.NUM,p_str)#kindをTK.NUM、strをp_strとして新しいトークンを作成\n",
        "          num,p_str=StrtoL(p_str)\n",
        "          b.val=num#valにnumを入れている\n",
        "          #p_str=n_str\n",
        "          if p_str==0:#p_str=0かチェック\n",
        "            break#p_str=0だったらbreak\n",
        "          else:#p_str=0でなかったら「トークナイズできません」と表示\n",
        "            continue\n",
        "      print(\"トークナイズできません\")\n",
        "    NewToken(TK.EOF,0)\n",
        "\n",
        "#str1=input(\"数式:\")\n",
        "str1 = \"1*(2+2)\"\n",
        "print(str1)\n",
        "Tokenize(str1)#入力str1についてトークナイズ\n",
        "\n",
        "for i in token:\n",
        "  print(\"kind:\",i.kind,\"val:\",i.val,\"str:\",i.str)\n",
        " "
      ],
      "execution_count": null,
      "outputs": [
        {
          "output_type": "stream",
          "text": [
            "1*(2+2)\n",
            "kind: TK.NUM val: 1 str: 1*(2+2)\n",
            "kind: TK.RESERVED val: 0 str: *(2+2)\n",
            "kind: TK.RESERVED val: 0 str: (2+2)\n",
            "kind: TK.NUM val: 2 str: 2+2)\n",
            "kind: TK.RESERVED val: 0 str: +2)\n",
            "kind: TK.NUM val: 2 str: 2)\n",
            "kind: TK.RESERVED val: 0 str: )\n",
            "kind: TK.EOF val: 0 str: 0\n"
          ],
          "name": "stdout"
        }
      ]
    },
    {
      "cell_type": "markdown",
      "metadata": {
        "id": "A2CE28iPnp1P"
      },
      "source": [
        "##EBNFによる四則演算の記述に対応した構文木を生成するための関数\n"
      ]
    },
    {
      "cell_type": "code",
      "metadata": {
        "id": "QrRnEeMHQ3Ge"
      },
      "source": [
        "from enum import Enum\n",
        "cur_pos=0\n",
        "\n",
        "def Consume(str_opr):#C言語でコンパイラを作成した場合のconsumeに対応\n",
        "  global token\n",
        "  global cur_pos\n",
        "  if token[cur_pos].kind!=TK.RESERVED or token[cur_pos].str[0]!=str_opr:#トークンの種類が記号ではない、または文字列の1文字目がstr_oprではないとき、falseを返す\n",
        "    return False\n",
        "  cur_pos+=1\n",
        "  return True#それ以外のときはtrue\n",
        "\n",
        "def Expect(str_opr):#C言語でコンパイラを作成した場合のexpectに対応\n",
        "   global token\n",
        "   global cur_pos\n",
        "   if token[cur_pos].kind!=TK.RESERVED or token[cur_pos].str[0]!=str_opr:#トークンの種類が記号ではない、または文字列の1文字目が+,-ではないとき\n",
        "     print(str_opr,\"ではありません\")#+ではありません、-ではありません　をプリント\n",
        "   cur_pos+=1\n",
        "\n",
        "def Expect_Number():#C言語でコンパイラを作成した場合のexpect_numberに対応\n",
        "  global token\n",
        "  global cur_pos\n",
        "  if token[cur_pos].kind!=TK.NUM:#トークンの種類が数字ではない時、\n",
        "    print(\"数ではありません\")#数ではありません。をプリント\n",
        "  val = token[cur_pos].val\n",
        "  cur_pos+=1\n",
        "  return val#数字を出力\n",
        "\n",
        "def At_EOF():#C言語でコンパイラを作成した場合のat_eofに対応\n",
        "   global token\n",
        "   global cur_pos\n",
        "   return token[cur_pos].kind==TK.EOF#トークンの種類がEOF\n",
        "\n",
        "\n",
        "class ND(Enum): #列挙型．抽象構文木でのノードの種類\n",
        "  ADD = 0#+\n",
        "  SUB = 1#-\n",
        "  MUL = 2#*\n",
        "  DIV = 3#/\n",
        "  NUM = 4#整数\n",
        "\n",
        "class Node:#抽象構文木のノードの型\n",
        "   def __init__(self):\n",
        "     self.kind = None#ノードの型．何も入っていない場合はNone\n",
        "     self.val = None#ノードの値．kindがND_NUMの場合そのときの値を表示\n",
        "     self.lhs = None#左辺\n",
        "     self.rhs = None#右辺\n",
        "\n",
        "def New_Node(kind,lhs,rhs):#新しいノードを作る関数\n",
        "  node = Node()#class\bNodeが入っている\n",
        "  node.kind = kind#ノードの型\n",
        "  node.lhs = lhs#左辺\n",
        "  node.rhs = rhs#右辺\n",
        "  return node \n",
        "\n",
        "def New_Node_Num(val):\n",
        "  node = Node()\n",
        "  node.kind = ND.NUM#nodeの種類が数字\n",
        "  node.val = val#そのときの値\n",
        "  return node\n",
        "\n",
        "def Expr():\n",
        "  node = Mul()#nodeに関数Mul()が入る\n",
        "  while True:#Trueの間繰り返す．\n",
        "     if Consume(\"+\"):#Consumeでstr_opr=\"+\"だったとき\n",
        "      node = New_Node(ND.ADD,node,Mul())#このような新しいノードを作る\n",
        "     elif Consume(\"-\"):#Consumeでstr_opr=\"-\"だったとき\n",
        "      node = New_Node(ND.SUB,node,Mul())#このような新しいノードを作る\n",
        "     else:\n",
        "       return node\n",
        "\n",
        "def Mul():\n",
        "   node = Primary()#nodeに関数Primary()が入る\n",
        "   while True:#Trueの間繰り返す\n",
        "     if Consume(\"*\"):#Consumeでstr_opr=\"*\"だったとき\n",
        "       node = New_Node(ND.MUL,node,Primary())#このような新しいノードを作る\n",
        "     elif Consume(\"/\"):#Consumeでstr_opr=\"/\"だったとき\n",
        "       node = New_Node(ND.DIV,node,Primary())#このような新しいノードを作る\n",
        "     else:\n",
        "       return node \n",
        "\n",
        "def Primary():\n",
        "       if Consume(\"(\"):#Consumeでstr_opr=\"(\"だったとき\n",
        "         node = Expr()#nodeにExpr()が入る\n",
        "         Expect(\")\")#関数Expectでstr_opr=)\n",
        "         return node\n",
        "       return New_Node_Num(Expect_Number())\n",
        "\n",
        "node = Expr()"
      ],
      "execution_count": null,
      "outputs": []
    },
    {
      "cell_type": "markdown",
      "metadata": {
        "id": "DEVQ6EfWpCoR"
      },
      "source": [
        "##スタックマシンへコンパイルするプログラムを作成"
      ]
    },
    {
      "cell_type": "code",
      "metadata": {
        "id": "xNlRX0XofrjD"
      },
      "source": [
        "def gen(node):\n",
        "      if node.kind == ND.NUM:#nodeの種類が数字のとき\n",
        "         print(\"   push  \",node.val)#nodeの値をpushする\n",
        "         return \n",
        "\n",
        "      gen(node.lhs)#左辺\n",
        "      gen(node.rhs)#右辺\n",
        "      print(\"   pop  rdi\")\n",
        "      print(\"   pop  rax\")\n",
        "\n",
        "      if node.kind == ND.ADD:#nodeの種類がADDだった場合\n",
        "        print(\"   add rax,  rdi\")\n",
        "      elif node.kind == ND.SUB:#nodeの種類がSUBだった場合\n",
        "        print(\"   sub rax,  rdi\")\n",
        "      elif node.kind == ND.MUL:#nodeの種類がMULだった場合\n",
        "        print(\"   imul rax,  rdi\")\n",
        "      elif node.kind == ND.DIV:#nodeの種類がDIVだった場合\n",
        "        print(\"   cqo\")\n",
        "        print(\"   idiv  rdi\")\n",
        "      else:\n",
        "        print(\"error\")#どれにも当てはまらなかったらerror\n",
        "      \n",
        "      print(\"   push rax\")"
      ],
      "execution_count": null,
      "outputs": []
    },
    {
      "cell_type": "markdown",
      "metadata": {
        "id": "VWnxUOV2pICX"
      },
      "source": [
        "##アセンブリプログラムを出力"
      ]
    },
    {
      "cell_type": "code",
      "metadata": {
        "id": "hPRHqMhqRbJL",
        "colab": {
          "base_uri": "https://localhost:8080/"
        },
        "outputId": "64c1dccb-d2cb-4824-a0a0-1afcf2608adf"
      },
      "source": [
        "print(\".intel_syntax noprefix\")\n",
        "print(\".globl main\")\n",
        "print(\"main:\");\n",
        "gen(node)\n",
        "print(\"  pop rax\")\n",
        "print(\"  ret\")"
      ],
      "execution_count": null,
      "outputs": [
        {
          "output_type": "stream",
          "text": [
            ".intel_syntax noprefix\n",
            ".globl main\n",
            "main:\n",
            "   push   1\n",
            "   push   2\n",
            "   push   2\n",
            "   pop  rdi\n",
            "   pop  rax\n",
            "   imul rax,  rdi\n",
            "   push rax\n",
            "   pop  rdi\n",
            "   pop  rax\n",
            "   add rax,  rdi\n",
            "   push rax\n",
            "  pop rax\n",
            "  ret\n"
          ],
          "name": "stdout"
        }
      ]
    },
    {
      "cell_type": "code",
      "metadata": {
        "id": "2gsCHeDvRa3P"
      },
      "source": [
        ""
      ],
      "execution_count": null,
      "outputs": []
    }
  ]
}